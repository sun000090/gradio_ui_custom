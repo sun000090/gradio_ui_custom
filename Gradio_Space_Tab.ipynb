{
  "nbformat": 4,
  "nbformat_minor": 0,
  "metadata": {
    "colab": {
      "provenance": []
    },
    "kernelspec": {
      "name": "python3",
      "display_name": "Python 3"
    },
    "language_info": {
      "name": "python"
    }
  },
  "cells": [
    {
      "cell_type": "code",
      "source": [
        "pip -q install gradio"
      ],
      "metadata": {
        "id": "ppe_repS3Kz0"
      },
      "execution_count": 1,
      "outputs": []
    },
    {
      "cell_type": "code",
      "execution_count": 2,
      "metadata": {
        "id": "iyUvF28Q2-rK"
      },
      "outputs": [],
      "source": [
        "import gradio as gr"
      ]
    },
    {
      "cell_type": "code",
      "source": [
        "def welcome(name):\n",
        "    return f\"Welcome to Gradio, {name}!\""
      ],
      "metadata": {
        "id": "-pbIMQJY7QjF"
      },
      "execution_count": 3,
      "outputs": []
    },
    {
      "cell_type": "code",
      "source": [
        "css = \"\"\"\n",
        ".gradio-container {background-color: #FFFFFF;\n",
        "                   height: 100%;\n",
        "                   width: 100%;\n",
        "                   overflow: auto}\n",
        "h1 {position: absolute; left: 5px; top: 130px; font-size:20px; font-weight:bold}\n",
        "h2 {position: absolute; left: 5px; top: 155px; font-size:16px; font-weight:normal}\n",
        "h3 {position: absolute; left: 60px; top: 220px; font-size:20px; font-weight:normal}\n",
        "h4 {position: absolute; left: 60px; top: 258px; font-size:20px; font-weight:normal}\n",
        ".radio-group .wrap {display: inline-grid !important;\n",
        "                    height: 25px !important;\n",
        "                    width: 25px !important;\n",
        "                    border-radius:50% !important;\n",
        "                    position: absolute;\n",
        "                    top:220px}\n",
        ".button-group {background-color: #0000FF !important;\n",
        "              color: #FFFFFF !important;\n",
        "              display: inline-grid !important;\n",
        "              height: 40px !important;\n",
        "              width: 10% !important;\n",
        "              border-radius: 32.5px !important;\n",
        "              position: absolute;\n",
        "              left: 250px;\n",
        "              top:250px;\n",
        "              font-size:18px;\n",
        "              text-align:center}\n",
        ".image-group {position: absolute;\n",
        "              left: 550px;\n",
        "              top: 40px;\n",
        "              border: solid !important;\n",
        "              border-radius: 25px !important;\n",
        "              border-width: 1px !important}\n",
        "h5 {position: absolute; left: 50px; top: 25px; font-size:20px; font-weight:bold}\n",
        "h6 {position: absolute; left: 50px; top: 75px; font-size:16px; font-weight:normal}\n",
        "h7 {position: absolute; left: 120px; top: 150px; font-size:20px; font-weight:normal}\n",
        "h8 {position: absolute; left: 120px; top: 188px; font-size:20px; font-weight:normal}\n",
        ".radio-group-m .wrap {display: inline-grid !important;\n",
        "                    height: 25px !important;\n",
        "                    width: 25px !important;\n",
        "                    border-radius:50% !important;\n",
        "                    position: absolute;\n",
        "                    top:100px;\n",
        "                    left:50px}\n",
        ".button-group-m {background-color: #0000FF !important;\n",
        "              color: #FFFFFF !important;\n",
        "              display: inline-grid !important;\n",
        "              height: 40px !important;\n",
        "              width: 20% !important;\n",
        "              border-radius: 32.5px !important;\n",
        "              position: absolute;\n",
        "              left: 50px;\n",
        "              top: 180px;\n",
        "              font-size:18px;\n",
        "              text-align:center}\n",
        ".image-group-m {position: absolute;\n",
        "              left: 50px;\n",
        "              top: 230px;\n",
        "              border: solid !important;\n",
        "              border-radius: 25px !important;\n",
        "              border-width: 1px !important}\n",
        "footer {visibility: hidden}\n",
        "\"\"\""
      ],
      "metadata": {
        "id": "BEWdDIJmIubO"
      },
      "execution_count": 32,
      "outputs": []
    },
    {
      "cell_type": "code",
      "source": [
        "blocks = gr.Blocks(delete_cache=[1,10], css=css, theme=gr.themes.Base())"
      ],
      "metadata": {
        "id": "skPUXzU23Jxr"
      },
      "execution_count": 33,
      "outputs": []
    },
    {
      "cell_type": "code",
      "source": [
        "with blocks as demo:\n",
        "    with gr.Tab(\"Flip to Desktop\"):\n",
        "        gr.Markdown(\n",
        "        \"\"\"\n",
        "        <h1>Image Generation Space</h1>\n",
        "\n",
        "        <h2>Select from the checkbox to generate images</h2>\n",
        "\n",
        "        <h3>Regular</h3>\n",
        "\n",
        "        <h4>Special</h4>\n",
        "        \"\"\")\n",
        "        with gr.Row():\n",
        "            inp1 = gr.Radio([\"\",\" \"], container=False, elem_classes='radio-group')\n",
        "            with gr.Row():\n",
        "                prompt_btn = gr.Button(value=\"Submit\", elem_classes='button-group')\n",
        "            with gr.Row():\n",
        "                out1 = gr.Image(show_label=False, show_download_button=False, height=450, width=300,\n",
        "                        elem_classes='image-group', container=True)\n",
        "        prompt_btn.click(welcome, inp1, out1)\n",
        "\n",
        "    with gr.Tab(\"Flip to Mobile\"):\n",
        "        gr.Markdown(\n",
        "        \"\"\"\n",
        "        <h5>Image Generation Space</h5>\n",
        "\n",
        "        <h6>Select from the checkbox to generate images</h6>\n",
        "        \"\"\")\n",
        "        with gr.Column():\n",
        "            inp2 = gr.Radio([\"\",\" \"], container=False, elem_classes='radio-group-m')\n",
        "            image_btn = gr.Button(value=\"Submit\", elem_classes='button-group-m')\n",
        "            out2 = gr.Image(show_label=False, show_download_button=False, height=450, width=300,\n",
        "                          elem_classes='image-group-m', container=True)\n",
        "        image_btn.click(welcome, inp2, out2)"
      ],
      "metadata": {
        "id": "IvJdk0ER5uRM"
      },
      "execution_count": 34,
      "outputs": []
    },
    {
      "cell_type": "code",
      "source": [
        "demo.launch(share=True, inline=True)"
      ],
      "metadata": {
        "colab": {
          "base_uri": "https://localhost:8080/",
          "height": 611
        },
        "id": "ezzDGhYZ3aHT",
        "outputId": "7764b4b7-e7d0-4fd7-c9b3-0a8a2450a498"
      },
      "execution_count": 35,
      "outputs": [
        {
          "output_type": "stream",
          "name": "stdout",
          "text": [
            "Colab notebook detected. To show errors in colab notebook, set debug=True in launch()\n",
            "Running on public URL: https://6a791c55d62f57d4f8.gradio.live\n",
            "\n",
            "This share link expires in 72 hours. For free permanent hosting and GPU upgrades, run `gradio deploy` from Terminal to deploy to Spaces (https://huggingface.co/spaces)\n"
          ]
        },
        {
          "output_type": "display_data",
          "data": {
            "text/plain": [
              "<IPython.core.display.HTML object>"
            ],
            "text/html": [
              "<div><iframe src=\"https://6a791c55d62f57d4f8.gradio.live\" width=\"100%\" height=\"500\" allow=\"autoplay; camera; microphone; clipboard-read; clipboard-write;\" frameborder=\"0\" allowfullscreen></iframe></div>"
            ]
          },
          "metadata": {}
        },
        {
          "output_type": "execute_result",
          "data": {
            "text/plain": []
          },
          "metadata": {},
          "execution_count": 35
        }
      ]
    },
    {
      "cell_type": "code",
      "source": [],
      "metadata": {
        "id": "8Pk17Tr2dCTr"
      },
      "execution_count": 7,
      "outputs": []
    }
  ]
}